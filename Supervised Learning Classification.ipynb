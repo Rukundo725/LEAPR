{
 "cells": [
  {
   "cell_type": "code",
   "execution_count": 1,
   "metadata": {},
   "outputs": [],
   "source": [
    "import pandas as pd\n",
    "import numpy as np \n",
    "import matplotlib.pyplot as plt\n",
    "import seaborn as sns\n",
    "#import calendar\n",
    "%matplotlib inline"
   ]
  },
  {
   "cell_type": "code",
   "execution_count": 2,
   "metadata": {},
   "outputs": [],
   "source": [
    "df = pd.read_csv('oneacre.csv')"
   ]
  },
  {
   "cell_type": "code",
   "execution_count": 3,
   "metadata": {},
   "outputs": [
    {
     "data": {
      "text/html": [
       "<div>\n",
       "<style scoped>\n",
       "    .dataframe tbody tr th:only-of-type {\n",
       "        vertical-align: middle;\n",
       "    }\n",
       "\n",
       "    .dataframe tbody tr th {\n",
       "        vertical-align: top;\n",
       "    }\n",
       "\n",
       "    .dataframe thead th {\n",
       "        text-align: right;\n",
       "    }\n",
       "</style>\n",
       "<table border=\"1\" class=\"dataframe\">\n",
       "  <thead>\n",
       "    <tr style=\"text-align: right;\">\n",
       "      <th></th>\n",
       "      <th>SeasonName</th>\n",
       "      <th>DistrictName</th>\n",
       "      <th>SiteName</th>\n",
       "      <th>GroupName</th>\n",
       "      <th>ClientID</th>\n",
       "      <th>TotalOfSolarBundles</th>\n",
       "      <th>TotalRepayment</th>\n",
       "      <th>TotalCredit</th>\n",
       "      <th>NumRepayments</th>\n",
       "      <th>FirstRepaymentDate</th>\n",
       "      <th>Facilitator</th>\n",
       "      <th>LandSize</th>\n",
       "      <th>NewMember</th>\n",
       "      <th>TotalEnrolledSeasons</th>\n",
       "      <th>RepaymentDate</th>\n",
       "      <th>RepaymentTypeName</th>\n",
       "      <th>RepaymentCategoryName</th>\n",
       "      <th>RunningTotal</th>\n",
       "      <th>default_status</th>\n",
       "    </tr>\n",
       "  </thead>\n",
       "  <tbody>\n",
       "    <tr>\n",
       "      <td>0</td>\n",
       "      <td>LR2016</td>\n",
       "      <td>Butere</td>\n",
       "      <td>Malaha</td>\n",
       "      <td>Fanya Ule</td>\n",
       "      <td>895315</td>\n",
       "      <td>0</td>\n",
       "      <td>10220.0</td>\n",
       "      <td>10220</td>\n",
       "      <td>9</td>\n",
       "      <td>11/13/2015</td>\n",
       "      <td>False</td>\n",
       "      <td>0.50</td>\n",
       "      <td>True</td>\n",
       "      <td>1</td>\n",
       "      <td>20151120</td>\n",
       "      <td>MobileMoney</td>\n",
       "      <td>Revenue</td>\n",
       "      <td>1025.0</td>\n",
       "      <td>True</td>\n",
       "    </tr>\n",
       "    <tr>\n",
       "      <td>1</td>\n",
       "      <td>LR2016</td>\n",
       "      <td>Webuye</td>\n",
       "      <td>Sinoko</td>\n",
       "      <td>Alpha</td>\n",
       "      <td>385693</td>\n",
       "      <td>2</td>\n",
       "      <td>19890.0</td>\n",
       "      <td>19890</td>\n",
       "      <td>13</td>\n",
       "      <td>11/10/2015</td>\n",
       "      <td>False</td>\n",
       "      <td>0.50</td>\n",
       "      <td>False</td>\n",
       "      <td>7</td>\n",
       "      <td>20151110</td>\n",
       "      <td>MobileMoney</td>\n",
       "      <td>Revenue</td>\n",
       "      <td>500.0</td>\n",
       "      <td>True</td>\n",
       "    </tr>\n",
       "    <tr>\n",
       "      <td>2</td>\n",
       "      <td>LR2015</td>\n",
       "      <td>Lugari</td>\n",
       "      <td>Mulimani</td>\n",
       "      <td>Baraka</td>\n",
       "      <td>1635357</td>\n",
       "      <td>1</td>\n",
       "      <td>13220.0</td>\n",
       "      <td>13220</td>\n",
       "      <td>12</td>\n",
       "      <td>11/10/2014</td>\n",
       "      <td>True</td>\n",
       "      <td>0.75</td>\n",
       "      <td>False</td>\n",
       "      <td>6</td>\n",
       "      <td>20141208</td>\n",
       "      <td>MobileMoney</td>\n",
       "      <td>Revenue</td>\n",
       "      <td>9020.0</td>\n",
       "      <td>True</td>\n",
       "    </tr>\n",
       "    <tr>\n",
       "      <td>3</td>\n",
       "      <td>LR2016</td>\n",
       "      <td>Webuye</td>\n",
       "      <td>Ondoti</td>\n",
       "      <td>Timakila</td>\n",
       "      <td>568321</td>\n",
       "      <td>1</td>\n",
       "      <td>9700.0</td>\n",
       "      <td>9700</td>\n",
       "      <td>7</td>\n",
       "      <td>11/16/2015</td>\n",
       "      <td>False</td>\n",
       "      <td>0.50</td>\n",
       "      <td>True</td>\n",
       "      <td>4</td>\n",
       "      <td>20151116</td>\n",
       "      <td>MobileMoney</td>\n",
       "      <td>Revenue</td>\n",
       "      <td>500.0</td>\n",
       "      <td>True</td>\n",
       "    </tr>\n",
       "    <tr>\n",
       "      <td>4</td>\n",
       "      <td>LR2018</td>\n",
       "      <td>Bungoma</td>\n",
       "      <td>Khaoya</td>\n",
       "      <td>Baraka</td>\n",
       "      <td>38603</td>\n",
       "      <td>0</td>\n",
       "      <td>6085.0</td>\n",
       "      <td>6085</td>\n",
       "      <td>8</td>\n",
       "      <td>11/7/2017</td>\n",
       "      <td>False</td>\n",
       "      <td>0.50</td>\n",
       "      <td>False</td>\n",
       "      <td>6</td>\n",
       "      <td>20171130</td>\n",
       "      <td>MobileMoney</td>\n",
       "      <td>Revenue</td>\n",
       "      <td>504.0</td>\n",
       "      <td>True</td>\n",
       "    </tr>\n",
       "  </tbody>\n",
       "</table>\n",
       "</div>"
      ],
      "text/plain": [
       "  SeasonName DistrictName  SiteName  GroupName  ClientID  TotalOfSolarBundles  \\\n",
       "0     LR2016       Butere    Malaha  Fanya Ule    895315                    0   \n",
       "1     LR2016       Webuye    Sinoko      Alpha    385693                    2   \n",
       "2     LR2015       Lugari  Mulimani     Baraka   1635357                    1   \n",
       "3     LR2016       Webuye    Ondoti   Timakila    568321                    1   \n",
       "4     LR2018      Bungoma    Khaoya     Baraka     38603                    0   \n",
       "\n",
       "   TotalRepayment  TotalCredit  NumRepayments FirstRepaymentDate  Facilitator  \\\n",
       "0         10220.0        10220              9         11/13/2015        False   \n",
       "1         19890.0        19890             13         11/10/2015        False   \n",
       "2         13220.0        13220             12         11/10/2014         True   \n",
       "3          9700.0         9700              7         11/16/2015        False   \n",
       "4          6085.0         6085              8          11/7/2017        False   \n",
       "\n",
       "   LandSize  NewMember  TotalEnrolledSeasons  RepaymentDate RepaymentTypeName  \\\n",
       "0      0.50       True                     1       20151120       MobileMoney   \n",
       "1      0.50      False                     7       20151110       MobileMoney   \n",
       "2      0.75      False                     6       20141208       MobileMoney   \n",
       "3      0.50       True                     4       20151116       MobileMoney   \n",
       "4      0.50      False                     6       20171130       MobileMoney   \n",
       "\n",
       "  RepaymentCategoryName  RunningTotal  default_status  \n",
       "0               Revenue        1025.0            True  \n",
       "1               Revenue         500.0            True  \n",
       "2               Revenue        9020.0            True  \n",
       "3               Revenue         500.0            True  \n",
       "4               Revenue         504.0            True  "
      ]
     },
     "execution_count": 3,
     "metadata": {},
     "output_type": "execute_result"
    }
   ],
   "source": [
    "df.head()"
   ]
  },
  {
   "cell_type": "code",
   "execution_count": 4,
   "metadata": {},
   "outputs": [
    {
     "data": {
      "text/plain": [
       "SeasonName               0\n",
       "DistrictName             0\n",
       "SiteName                 0\n",
       "GroupName                0\n",
       "ClientID                 0\n",
       "TotalOfSolarBundles      0\n",
       "TotalRepayment           0\n",
       "TotalCredit              0\n",
       "NumRepayments            0\n",
       "FirstRepaymentDate       0\n",
       "Facilitator              0\n",
       "LandSize                 0\n",
       "NewMember                0\n",
       "TotalEnrolledSeasons     0\n",
       "RepaymentDate            0\n",
       "RepaymentTypeName        0\n",
       "RepaymentCategoryName    0\n",
       "RunningTotal             0\n",
       "default_status           0\n",
       "dtype: int64"
      ]
     },
     "execution_count": 4,
     "metadata": {},
     "output_type": "execute_result"
    }
   ],
   "source": [
    "#Check for null values\n",
    "df.isnull().sum()"
   ]
  },
  {
   "cell_type": "code",
   "execution_count": 5,
   "metadata": {},
   "outputs": [
    {
     "data": {
      "text/plain": [
       "Index(['SeasonName', 'DistrictName', 'SiteName', 'GroupName', 'ClientID',\n",
       "       'TotalOfSolarBundles', 'TotalRepayment', 'TotalCredit', 'NumRepayments',\n",
       "       'FirstRepaymentDate', 'Facilitator', 'LandSize', 'NewMember',\n",
       "       'TotalEnrolledSeasons', 'RepaymentDate', 'RepaymentTypeName',\n",
       "       'RepaymentCategoryName', 'RunningTotal', 'default_status'],\n",
       "      dtype='object')"
      ]
     },
     "execution_count": 5,
     "metadata": {},
     "output_type": "execute_result"
    }
   ],
   "source": [
    "#Dataframe columns\n",
    "df.columns"
   ]
  },
  {
   "cell_type": "code",
   "execution_count": 6,
   "metadata": {},
   "outputs": [
    {
     "data": {
      "text/html": [
       "<div>\n",
       "<style scoped>\n",
       "    .dataframe tbody tr th:only-of-type {\n",
       "        vertical-align: middle;\n",
       "    }\n",
       "\n",
       "    .dataframe tbody tr th {\n",
       "        vertical-align: top;\n",
       "    }\n",
       "\n",
       "    .dataframe thead th {\n",
       "        text-align: right;\n",
       "    }\n",
       "</style>\n",
       "<table border=\"1\" class=\"dataframe\">\n",
       "  <thead>\n",
       "    <tr style=\"text-align: right;\">\n",
       "      <th></th>\n",
       "      <th>ClientID</th>\n",
       "      <th>TotalOfSolarBundles</th>\n",
       "      <th>TotalRepayment</th>\n",
       "      <th>TotalCredit</th>\n",
       "      <th>NumRepayments</th>\n",
       "      <th>LandSize</th>\n",
       "      <th>TotalEnrolledSeasons</th>\n",
       "      <th>RepaymentDate</th>\n",
       "      <th>RunningTotal</th>\n",
       "    </tr>\n",
       "  </thead>\n",
       "  <tbody>\n",
       "    <tr>\n",
       "      <td>count</td>\n",
       "      <td>6.364640e+05</td>\n",
       "      <td>636464.000000</td>\n",
       "      <td>636464.000000</td>\n",
       "      <td>636464.000000</td>\n",
       "      <td>636464.000000</td>\n",
       "      <td>636464.000000</td>\n",
       "      <td>636464.000000</td>\n",
       "      <td>6.364640e+05</td>\n",
       "      <td>636464.000000</td>\n",
       "    </tr>\n",
       "    <tr>\n",
       "      <td>mean</td>\n",
       "      <td>1.558668e+06</td>\n",
       "      <td>0.525527</td>\n",
       "      <td>9806.143044</td>\n",
       "      <td>9924.282824</td>\n",
       "      <td>17.319060</td>\n",
       "      <td>0.598257</td>\n",
       "      <td>3.008266</td>\n",
       "      <td>2.015941e+07</td>\n",
       "      <td>1072.918496</td>\n",
       "    </tr>\n",
       "    <tr>\n",
       "      <td>std</td>\n",
       "      <td>7.086755e+05</td>\n",
       "      <td>0.552769</td>\n",
       "      <td>4232.559018</td>\n",
       "      <td>4213.006301</td>\n",
       "      <td>9.587718</td>\n",
       "      <td>0.427424</td>\n",
       "      <td>1.838608</td>\n",
       "      <td>1.089743e+04</td>\n",
       "      <td>1078.224055</td>\n",
       "    </tr>\n",
       "    <tr>\n",
       "      <td>min</td>\n",
       "      <td>9.773000e+03</td>\n",
       "      <td>0.000000</td>\n",
       "      <td>0.000000</td>\n",
       "      <td>700.000000</td>\n",
       "      <td>1.000000</td>\n",
       "      <td>0.000000</td>\n",
       "      <td>1.000000</td>\n",
       "      <td>2.014110e+07</td>\n",
       "      <td>-9360.000000</td>\n",
       "    </tr>\n",
       "    <tr>\n",
       "      <td>25%</td>\n",
       "      <td>1.075044e+06</td>\n",
       "      <td>0.000000</td>\n",
       "      <td>6625.000000</td>\n",
       "      <td>6750.000000</td>\n",
       "      <td>11.000000</td>\n",
       "      <td>0.250000</td>\n",
       "      <td>2.000000</td>\n",
       "      <td>2.015112e+07</td>\n",
       "      <td>500.000000</td>\n",
       "    </tr>\n",
       "    <tr>\n",
       "      <td>50%</td>\n",
       "      <td>1.652488e+06</td>\n",
       "      <td>0.000000</td>\n",
       "      <td>9395.000000</td>\n",
       "      <td>9500.000000</td>\n",
       "      <td>15.000000</td>\n",
       "      <td>0.500000</td>\n",
       "      <td>3.000000</td>\n",
       "      <td>2.016113e+07</td>\n",
       "      <td>745.000000</td>\n",
       "    </tr>\n",
       "    <tr>\n",
       "      <td>75%</td>\n",
       "      <td>2.141271e+06</td>\n",
       "      <td>1.000000</td>\n",
       "      <td>12175.000000</td>\n",
       "      <td>12355.000000</td>\n",
       "      <td>21.000000</td>\n",
       "      <td>0.750000</td>\n",
       "      <td>4.000000</td>\n",
       "      <td>2.017112e+07</td>\n",
       "      <td>1250.000000</td>\n",
       "    </tr>\n",
       "    <tr>\n",
       "      <td>max</td>\n",
       "      <td>2.668235e+06</td>\n",
       "      <td>5.000000</td>\n",
       "      <td>41490.000000</td>\n",
       "      <td>44540.000000</td>\n",
       "      <td>339.000000</td>\n",
       "      <td>6.000000</td>\n",
       "      <td>15.000000</td>\n",
       "      <td>2.017121e+07</td>\n",
       "      <td>30765.000000</td>\n",
       "    </tr>\n",
       "  </tbody>\n",
       "</table>\n",
       "</div>"
      ],
      "text/plain": [
       "           ClientID  TotalOfSolarBundles  TotalRepayment    TotalCredit  \\\n",
       "count  6.364640e+05        636464.000000   636464.000000  636464.000000   \n",
       "mean   1.558668e+06             0.525527     9806.143044    9924.282824   \n",
       "std    7.086755e+05             0.552769     4232.559018    4213.006301   \n",
       "min    9.773000e+03             0.000000        0.000000     700.000000   \n",
       "25%    1.075044e+06             0.000000     6625.000000    6750.000000   \n",
       "50%    1.652488e+06             0.000000     9395.000000    9500.000000   \n",
       "75%    2.141271e+06             1.000000    12175.000000   12355.000000   \n",
       "max    2.668235e+06             5.000000    41490.000000   44540.000000   \n",
       "\n",
       "       NumRepayments       LandSize  TotalEnrolledSeasons  RepaymentDate  \\\n",
       "count  636464.000000  636464.000000         636464.000000   6.364640e+05   \n",
       "mean       17.319060       0.598257              3.008266   2.015941e+07   \n",
       "std         9.587718       0.427424              1.838608   1.089743e+04   \n",
       "min         1.000000       0.000000              1.000000   2.014110e+07   \n",
       "25%        11.000000       0.250000              2.000000   2.015112e+07   \n",
       "50%        15.000000       0.500000              3.000000   2.016113e+07   \n",
       "75%        21.000000       0.750000              4.000000   2.017112e+07   \n",
       "max       339.000000       6.000000             15.000000   2.017121e+07   \n",
       "\n",
       "        RunningTotal  \n",
       "count  636464.000000  \n",
       "mean     1072.918496  \n",
       "std      1078.224055  \n",
       "min     -9360.000000  \n",
       "25%       500.000000  \n",
       "50%       745.000000  \n",
       "75%      1250.000000  \n",
       "max     30765.000000  "
      ]
     },
     "execution_count": 6,
     "metadata": {},
     "output_type": "execute_result"
    }
   ],
   "source": [
    "#Statistical information about the dataframe\n",
    "df.describe()"
   ]
  },
  {
   "cell_type": "code",
   "execution_count": 7,
   "metadata": {},
   "outputs": [
    {
     "name": "stdout",
     "output_type": "stream",
     "text": [
      "<class 'pandas.core.frame.DataFrame'>\n",
      "RangeIndex: 636464 entries, 0 to 636463\n",
      "Data columns (total 19 columns):\n",
      "SeasonName               636464 non-null object\n",
      "DistrictName             636464 non-null object\n",
      "SiteName                 636464 non-null object\n",
      "GroupName                636464 non-null object\n",
      "ClientID                 636464 non-null int64\n",
      "TotalOfSolarBundles      636464 non-null int64\n",
      "TotalRepayment           636464 non-null float64\n",
      "TotalCredit              636464 non-null int64\n",
      "NumRepayments            636464 non-null int64\n",
      "FirstRepaymentDate       636464 non-null object\n",
      "Facilitator              636464 non-null bool\n",
      "LandSize                 636464 non-null float64\n",
      "NewMember                636464 non-null bool\n",
      "TotalEnrolledSeasons     636464 non-null int64\n",
      "RepaymentDate            636464 non-null int64\n",
      "RepaymentTypeName        636464 non-null object\n",
      "RepaymentCategoryName    636464 non-null object\n",
      "RunningTotal             636464 non-null float64\n",
      "default_status           636464 non-null bool\n",
      "dtypes: bool(3), float64(3), int64(6), object(7)\n",
      "memory usage: 79.5+ MB\n"
     ]
    }
   ],
   "source": [
    "#Data types of the dataframe\n",
    "df.info()"
   ]
  },
  {
   "cell_type": "code",
   "execution_count": 8,
   "metadata": {},
   "outputs": [],
   "source": [
    "#Convert ClientId to string \n",
    "df['ClientID']= df['ClientID'].astype(str)"
   ]
  },
  {
   "cell_type": "code",
   "execution_count": 9,
   "metadata": {},
   "outputs": [],
   "source": [
    "#Convert repaymentdate to string and then to datetime. \n",
    "df['RepaymentDate']= df['RepaymentDate'].astype(str)\n",
    "df['FirstRepaymentDate']= df['FirstRepaymentDate'].astype(str)"
   ]
  },
  {
   "cell_type": "code",
   "execution_count": 10,
   "metadata": {},
   "outputs": [],
   "source": [
    "#Convert the string of datetime to real dates \n",
    "df['RepaymentDate'] = df['RepaymentDate'].apply(pd.to_datetime)"
   ]
  },
  {
   "cell_type": "code",
   "execution_count": 11,
   "metadata": {},
   "outputs": [
    {
     "name": "stdout",
     "output_type": "stream",
     "text": [
      "<class 'pandas.core.frame.DataFrame'>\n",
      "RangeIndex: 636464 entries, 0 to 636463\n",
      "Data columns (total 19 columns):\n",
      "SeasonName               636464 non-null object\n",
      "DistrictName             636464 non-null object\n",
      "SiteName                 636464 non-null object\n",
      "GroupName                636464 non-null object\n",
      "ClientID                 636464 non-null object\n",
      "TotalOfSolarBundles      636464 non-null int64\n",
      "TotalRepayment           636464 non-null float64\n",
      "TotalCredit              636464 non-null int64\n",
      "NumRepayments            636464 non-null int64\n",
      "FirstRepaymentDate       636464 non-null object\n",
      "Facilitator              636464 non-null bool\n",
      "LandSize                 636464 non-null float64\n",
      "NewMember                636464 non-null bool\n",
      "TotalEnrolledSeasons     636464 non-null int64\n",
      "RepaymentDate            636464 non-null datetime64[ns]\n",
      "RepaymentTypeName        636464 non-null object\n",
      "RepaymentCategoryName    636464 non-null object\n",
      "RunningTotal             636464 non-null float64\n",
      "default_status           636464 non-null bool\n",
      "dtypes: bool(3), datetime64[ns](1), float64(3), int64(4), object(8)\n",
      "memory usage: 79.5+ MB\n"
     ]
    }
   ],
   "source": [
    "#Confirm change for the affected column. \n",
    "df.info()"
   ]
  },
  {
   "cell_type": "code",
   "execution_count": 12,
   "metadata": {},
   "outputs": [
    {
     "data": {
      "text/plain": [
       "LR2018    233471\n",
       "LR2017    158347\n",
       "LR2016    145265\n",
       "LR2015     99381\n",
       "Name: SeasonName, dtype: int64"
      ]
     },
     "execution_count": 12,
     "metadata": {},
     "output_type": "execute_result"
    }
   ],
   "source": [
    "#Check out number of seasons for dataframe and their counts\n",
    "df.SeasonName.value_counts()"
   ]
  },
  {
   "cell_type": "code",
   "execution_count": null,
   "metadata": {},
   "outputs": [],
   "source": [
    "#sns.pairplot(df)"
   ]
  },
  {
   "cell_type": "code",
   "execution_count": 13,
   "metadata": {},
   "outputs": [
    {
     "data": {
      "text/plain": [
       "0.500    0.363235\n",
       "0.250    0.191241\n",
       "1.000    0.138845\n",
       "0.750    0.084858\n",
       "0.000    0.080903\n",
       "1.250    0.027936\n",
       "0.625    0.025934\n",
       "1.500    0.023750\n",
       "0.375    0.020260\n",
       "2.000    0.013058\n",
       "1.125    0.008191\n",
       "0.875    0.005290\n",
       "1.750    0.004236\n",
       "2.250    0.002054\n",
       "1.375    0.001970\n",
       "2.500    0.001854\n",
       "0.125    0.001642\n",
       "1.625    0.001163\n",
       "3.000    0.001119\n",
       "2.125    0.000635\n",
       "2.750    0.000394\n",
       "4.000    0.000393\n",
       "3.500    0.000214\n",
       "1.875    0.000207\n",
       "3.250    0.000190\n",
       "2.375    0.000086\n",
       "3.750    0.000083\n",
       "2.625    0.000080\n",
       "3.125    0.000031\n",
       "4.250    0.000028\n",
       "4.500    0.000027\n",
       "5.000    0.000024\n",
       "2.875    0.000019\n",
       "4.750    0.000013\n",
       "4.125    0.000008\n",
       "3.375    0.000008\n",
       "3.875    0.000005\n",
       "5.500    0.000003\n",
       "1.160    0.000003\n",
       "5.250    0.000003\n",
       "3.625    0.000003\n",
       "0.910    0.000002\n",
       "4.875    0.000002\n",
       "6.000    0.000002\n",
       "Name: LandSize, dtype: float64"
      ]
     },
     "execution_count": 13,
     "metadata": {},
     "output_type": "execute_result"
    }
   ],
   "source": [
    "#In terms of land most of the farmers have less than an acre. \n",
    "df.LandSize.value_counts(normalize=True)"
   ]
  },
  {
   "cell_type": "code",
   "execution_count": 14,
   "metadata": {},
   "outputs": [
    {
     "data": {
      "text/plain": [
       "True     0.545434\n",
       "False    0.454566\n",
       "Name: default_status, dtype: float64"
      ]
     },
     "execution_count": 14,
     "metadata": {},
     "output_type": "execute_result"
    }
   ],
   "source": [
    "#It appear that the loan distribution between True and False for the default_status is more on the side of defaulters. \n",
    "df['default_status'].value_counts(normalize=True)"
   ]
  },
  {
   "cell_type": "code",
   "execution_count": 15,
   "metadata": {},
   "outputs": [
    {
     "data": {
      "text/plain": [
       "True     0.582814\n",
       "False    0.417186\n",
       "Name: NewMember, dtype: float64"
      ]
     },
     "execution_count": 15,
     "metadata": {},
     "output_type": "execute_result"
    }
   ],
   "source": [
    "#There are more new members taking the loans. \n",
    "df['NewMember'].value_counts(normalize=True)"
   ]
  },
  {
   "cell_type": "code",
   "execution_count": 16,
   "metadata": {},
   "outputs": [
    {
     "data": {
      "text/plain": [
       "NewMember\n",
       "False    265524\n",
       "True     370940\n",
       "Name: default_status, dtype: int64"
      ]
     },
     "execution_count": 16,
     "metadata": {},
     "output_type": "execute_result"
    }
   ],
   "source": [
    "#It appears that most new members are defualting on there loans. \n",
    "df.groupby('NewMember').default_status.count()"
   ]
  },
  {
   "cell_type": "code",
   "execution_count": 17,
   "metadata": {},
   "outputs": [
    {
     "data": {
      "text/plain": [
       "39"
      ]
     },
     "execution_count": 17,
     "metadata": {},
     "output_type": "execute_result"
    }
   ],
   "source": [
    "#There are a total of 39 districts\n",
    "df['DistrictName'].nunique()"
   ]
  },
  {
   "cell_type": "code",
   "execution_count": 18,
   "metadata": {},
   "outputs": [
    {
     "data": {
      "text/plain": [
       "False    0.879654\n",
       "True     0.120346\n",
       "Name: Facilitator, dtype: float64"
      ]
     },
     "execution_count": 18,
     "metadata": {},
     "output_type": "execute_result"
    }
   ],
   "source": [
    "df.Facilitator.value_counts(normalize=True)"
   ]
  },
  {
   "cell_type": "code",
   "execution_count": 22,
   "metadata": {},
   "outputs": [
    {
     "data": {
      "text/html": [
       "<div>\n",
       "<style scoped>\n",
       "    .dataframe tbody tr th:only-of-type {\n",
       "        vertical-align: middle;\n",
       "    }\n",
       "\n",
       "    .dataframe tbody tr th {\n",
       "        vertical-align: top;\n",
       "    }\n",
       "\n",
       "    .dataframe thead th {\n",
       "        text-align: right;\n",
       "    }\n",
       "</style>\n",
       "<table border=\"1\" class=\"dataframe\">\n",
       "  <thead>\n",
       "    <tr style=\"text-align: right;\">\n",
       "      <th></th>\n",
       "      <th>TotalOfSolarBundles</th>\n",
       "      <th>TotalRepayment</th>\n",
       "      <th>TotalCredit</th>\n",
       "      <th>NumRepayments</th>\n",
       "      <th>Facilitator</th>\n",
       "      <th>LandSize</th>\n",
       "      <th>NewMember</th>\n",
       "      <th>TotalEnrolledSeasons</th>\n",
       "      <th>RunningTotal</th>\n",
       "      <th>default_status</th>\n",
       "    </tr>\n",
       "  </thead>\n",
       "  <tbody>\n",
       "    <tr>\n",
       "      <td>TotalOfSolarBundles</td>\n",
       "      <td>1.000000</td>\n",
       "      <td>0.270718</td>\n",
       "      <td>0.273121</td>\n",
       "      <td>0.196799</td>\n",
       "      <td>0.073808</td>\n",
       "      <td>-0.212349</td>\n",
       "      <td>-0.026724</td>\n",
       "      <td>0.051870</td>\n",
       "      <td>0.087879</td>\n",
       "      <td>-0.029336</td>\n",
       "    </tr>\n",
       "    <tr>\n",
       "      <td>TotalRepayment</td>\n",
       "      <td>0.270718</td>\n",
       "      <td>1.000000</td>\n",
       "      <td>0.978083</td>\n",
       "      <td>0.307849</td>\n",
       "      <td>0.164140</td>\n",
       "      <td>0.661200</td>\n",
       "      <td>-0.296506</td>\n",
       "      <td>0.255648</td>\n",
       "      <td>0.286389</td>\n",
       "      <td>-0.105355</td>\n",
       "    </tr>\n",
       "    <tr>\n",
       "      <td>TotalCredit</td>\n",
       "      <td>0.273121</td>\n",
       "      <td>0.978083</td>\n",
       "      <td>1.000000</td>\n",
       "      <td>0.293822</td>\n",
       "      <td>0.168250</td>\n",
       "      <td>0.675458</td>\n",
       "      <td>-0.286718</td>\n",
       "      <td>0.231558</td>\n",
       "      <td>0.277601</td>\n",
       "      <td>-0.108567</td>\n",
       "    </tr>\n",
       "    <tr>\n",
       "      <td>NumRepayments</td>\n",
       "      <td>0.196799</td>\n",
       "      <td>0.307849</td>\n",
       "      <td>0.293822</td>\n",
       "      <td>1.000000</td>\n",
       "      <td>0.155471</td>\n",
       "      <td>0.147974</td>\n",
       "      <td>-0.120911</td>\n",
       "      <td>0.158375</td>\n",
       "      <td>0.134555</td>\n",
       "      <td>-0.243572</td>\n",
       "    </tr>\n",
       "    <tr>\n",
       "      <td>Facilitator</td>\n",
       "      <td>0.073808</td>\n",
       "      <td>0.164140</td>\n",
       "      <td>0.168250</td>\n",
       "      <td>0.155471</td>\n",
       "      <td>1.000000</td>\n",
       "      <td>0.104517</td>\n",
       "      <td>-0.180197</td>\n",
       "      <td>0.228985</td>\n",
       "      <td>0.077808</td>\n",
       "      <td>-0.056492</td>\n",
       "    </tr>\n",
       "    <tr>\n",
       "      <td>LandSize</td>\n",
       "      <td>-0.212349</td>\n",
       "      <td>0.661200</td>\n",
       "      <td>0.675458</td>\n",
       "      <td>0.147974</td>\n",
       "      <td>0.104517</td>\n",
       "      <td>1.000000</td>\n",
       "      <td>-0.214582</td>\n",
       "      <td>0.158660</td>\n",
       "      <td>0.183861</td>\n",
       "      <td>-0.056651</td>\n",
       "    </tr>\n",
       "    <tr>\n",
       "      <td>NewMember</td>\n",
       "      <td>-0.026724</td>\n",
       "      <td>-0.296506</td>\n",
       "      <td>-0.286718</td>\n",
       "      <td>-0.120911</td>\n",
       "      <td>-0.180197</td>\n",
       "      <td>-0.214582</td>\n",
       "      <td>1.000000</td>\n",
       "      <td>-0.624482</td>\n",
       "      <td>-0.136404</td>\n",
       "      <td>0.036858</td>\n",
       "    </tr>\n",
       "    <tr>\n",
       "      <td>TotalEnrolledSeasons</td>\n",
       "      <td>0.051870</td>\n",
       "      <td>0.255648</td>\n",
       "      <td>0.231558</td>\n",
       "      <td>0.158375</td>\n",
       "      <td>0.228985</td>\n",
       "      <td>0.158660</td>\n",
       "      <td>-0.624482</td>\n",
       "      <td>1.000000</td>\n",
       "      <td>0.173741</td>\n",
       "      <td>-0.067995</td>\n",
       "    </tr>\n",
       "    <tr>\n",
       "      <td>RunningTotal</td>\n",
       "      <td>0.087879</td>\n",
       "      <td>0.286389</td>\n",
       "      <td>0.277601</td>\n",
       "      <td>0.134555</td>\n",
       "      <td>0.077808</td>\n",
       "      <td>0.183861</td>\n",
       "      <td>-0.136404</td>\n",
       "      <td>0.173741</td>\n",
       "      <td>1.000000</td>\n",
       "      <td>-0.054685</td>\n",
       "    </tr>\n",
       "    <tr>\n",
       "      <td>default_status</td>\n",
       "      <td>-0.029336</td>\n",
       "      <td>-0.105355</td>\n",
       "      <td>-0.108567</td>\n",
       "      <td>-0.243572</td>\n",
       "      <td>-0.056492</td>\n",
       "      <td>-0.056651</td>\n",
       "      <td>0.036858</td>\n",
       "      <td>-0.067995</td>\n",
       "      <td>-0.054685</td>\n",
       "      <td>1.000000</td>\n",
       "    </tr>\n",
       "  </tbody>\n",
       "</table>\n",
       "</div>"
      ],
      "text/plain": [
       "                      TotalOfSolarBundles  TotalRepayment  TotalCredit  \\\n",
       "TotalOfSolarBundles              1.000000        0.270718     0.273121   \n",
       "TotalRepayment                   0.270718        1.000000     0.978083   \n",
       "TotalCredit                      0.273121        0.978083     1.000000   \n",
       "NumRepayments                    0.196799        0.307849     0.293822   \n",
       "Facilitator                      0.073808        0.164140     0.168250   \n",
       "LandSize                        -0.212349        0.661200     0.675458   \n",
       "NewMember                       -0.026724       -0.296506    -0.286718   \n",
       "TotalEnrolledSeasons             0.051870        0.255648     0.231558   \n",
       "RunningTotal                     0.087879        0.286389     0.277601   \n",
       "default_status                  -0.029336       -0.105355    -0.108567   \n",
       "\n",
       "                      NumRepayments  Facilitator  LandSize  NewMember  \\\n",
       "TotalOfSolarBundles        0.196799     0.073808 -0.212349  -0.026724   \n",
       "TotalRepayment             0.307849     0.164140  0.661200  -0.296506   \n",
       "TotalCredit                0.293822     0.168250  0.675458  -0.286718   \n",
       "NumRepayments              1.000000     0.155471  0.147974  -0.120911   \n",
       "Facilitator                0.155471     1.000000  0.104517  -0.180197   \n",
       "LandSize                   0.147974     0.104517  1.000000  -0.214582   \n",
       "NewMember                 -0.120911    -0.180197 -0.214582   1.000000   \n",
       "TotalEnrolledSeasons       0.158375     0.228985  0.158660  -0.624482   \n",
       "RunningTotal               0.134555     0.077808  0.183861  -0.136404   \n",
       "default_status            -0.243572    -0.056492 -0.056651   0.036858   \n",
       "\n",
       "                      TotalEnrolledSeasons  RunningTotal  default_status  \n",
       "TotalOfSolarBundles               0.051870      0.087879       -0.029336  \n",
       "TotalRepayment                    0.255648      0.286389       -0.105355  \n",
       "TotalCredit                       0.231558      0.277601       -0.108567  \n",
       "NumRepayments                     0.158375      0.134555       -0.243572  \n",
       "Facilitator                       0.228985      0.077808       -0.056492  \n",
       "LandSize                          0.158660      0.183861       -0.056651  \n",
       "NewMember                        -0.624482     -0.136404        0.036858  \n",
       "TotalEnrolledSeasons              1.000000      0.173741       -0.067995  \n",
       "RunningTotal                      0.173741      1.000000       -0.054685  \n",
       "default_status                   -0.067995     -0.054685        1.000000  "
      ]
     },
     "execution_count": 22,
     "metadata": {},
     "output_type": "execute_result"
    }
   ],
   "source": [
    "df.corr()"
   ]
  },
  {
   "cell_type": "code",
   "execution_count": 21,
   "metadata": {},
   "outputs": [
    {
     "data": {
      "image/png": "[encoded data removed]",
      "text/plain": [
       "<Figure size 936x360 with 2 Axes>"
      ]
     },
     "metadata": {
      "needs_background": "light"
     },
     "output_type": "display_data"
    }
   ],
   "source": [
    "#Heat Map to show column correlation \n",
    "fig, ax = plt.subplots(figsize=(13,5))\n",
    "sns.heatmap(df.corr(),annot=True,  cmap=\"cool\", linewidth=0.5)\n",
    "plt.show() #linewidth=0.5,"
   ]
  },
  {
   "cell_type": "code",
   "execution_count": 24,
   "metadata": {},
   "outputs": [
    {
     "data": {
      "text/plain": [
       "Revenue      636177\n",
       "Bonus           230\n",
       "Write Off        40\n",
       "Trial            14\n",
       "Refund            3\n",
       "Name: RepaymentCategoryName, dtype: int64"
      ]
     },
     "execution_count": 24,
     "metadata": {},
     "output_type": "execute_result"
    }
   ],
   "source": [
    "#Repayments by Categories\n",
    "df.RepaymentCategoryName.value_counts()#normalize = True"
   ]
  },
  {
   "cell_type": "code",
   "execution_count": 25,
   "metadata": {},
   "outputs": [
    {
     "data": {
      "text/plain": [
       "Revenue      0.999549\n",
       "Bonus        0.000361\n",
       "Write Off    0.000063\n",
       "Trial        0.000022\n",
       "Refund       0.000005\n",
       "Name: RepaymentCategoryName, dtype: float64"
      ]
     },
     "execution_count": 25,
     "metadata": {},
     "output_type": "execute_result"
    }
   ],
   "source": [
    "df.RepaymentCategoryName.value_counts(normalize=True)"
   ]
  },
  {
   "cell_type": "code",
   "execution_count": 26,
   "metadata": {},
   "outputs": [
    {
     "data": {
      "text/plain": [
       "RepaymentCategoryName  default_status\n",
       "Bonus                  True                 150\n",
       "                       False                 80\n",
       "Refund                 True                   2\n",
       "                       False                  1\n",
       "Revenue                True              346956\n",
       "                       False             289221\n",
       "Trial                  False                 13\n",
       "                       True                   1\n",
       "Write Off              True                  40\n",
       "Name: default_status, dtype: int64"
      ]
     },
     "execution_count": 26,
     "metadata": {},
     "output_type": "execute_result"
    }
   ],
   "source": [
    "#Repayments with Categories in relation to default_satus\n",
    "df.groupby('RepaymentCategoryName').default_status.value_counts()"
   ]
  },
  {
   "cell_type": "code",
   "execution_count": 27,
   "metadata": {},
   "outputs": [
    {
     "data": {
      "text/plain": [
       "RepaymentTypeName           default_status\n",
       "Auditor                     False                 11\n",
       "                            True                   7\n",
       "Crop Failure Compensation   True                 150\n",
       "                            False                 80\n",
       "Deceased Debt Cancellation  True                  40\n",
       "Dropped Client Refund       True                   2\n",
       "                            False                  1\n",
       "MobileMoney                 True              287790\n",
       "                            False             265506\n",
       "Receipt                     True               59159\n",
       "                            False              23704\n",
       "Trial                       False                 13\n",
       "                            True                   1\n",
       "Name: default_status, dtype: int64"
      ]
     },
     "execution_count": 27,
     "metadata": {},
     "output_type": "execute_result"
    }
   ],
   "source": [
    "#Repayments by Category and Type \n",
    "df.groupby(['RepaymentTypeName']).default_status.value_counts()"
   ]
  },
  {
   "cell_type": "code",
   "execution_count": 28,
   "metadata": {},
   "outputs": [],
   "source": [
    "dfaml = df.copy()"
   ]
  },
  {
   "cell_type": "code",
   "execution_count": 29,
   "metadata": {},
   "outputs": [
    {
     "data": {
      "text/plain": [
       "1539"
      ]
     },
     "execution_count": 29,
     "metadata": {},
     "output_type": "execute_result"
    }
   ],
   "source": [
    "#Number of sites (if we are to convert them to numerical columns we would get 1539 columns)\n",
    "df.SiteName.nunique()"
   ]
  },
  {
   "cell_type": "code",
   "execution_count": 33,
   "metadata": {},
   "outputs": [
    {
     "data": {
      "text/plain": [
       "0           Malaha\n",
       "1           Sinoko\n",
       "2         Mulimani\n",
       "3           Ondoti\n",
       "4           Khaoya\n",
       "5    Kawuor kawere\n",
       "6         Kapsotik\n",
       "7         Shabwali\n",
       "8           Maraka\n",
       "9        Gavudunyi\n",
       "Name: SiteName, dtype: object"
      ]
     },
     "execution_count": 33,
     "metadata": {},
     "output_type": "execute_result"
    }
   ],
   "source": [
    "df.SiteName.head(10)"
   ]
  },
  {
   "cell_type": "code",
   "execution_count": 30,
   "metadata": {},
   "outputs": [
    {
     "data": {
      "text/plain": [
       "23925"
      ]
     },
     "execution_count": 30,
     "metadata": {},
     "output_type": "execute_result"
    }
   ],
   "source": [
    "# Number of groups ( If we would convert them we would get 23925 columns)\n",
    "df.GroupName.nunique()"
   ]
  },
  {
   "cell_type": "code",
   "execution_count": 32,
   "metadata": {},
   "outputs": [
    {
     "data": {
      "text/plain": [
       "0     Fanya Ule\n",
       "1         Alpha\n",
       "2        Baraka\n",
       "3      Timakila\n",
       "4        Baraka\n",
       "5     haki yetu\n",
       "6         Ndovu\n",
       "7    Mavuno Grp\n",
       "8         Bidii\n",
       "9         Faida\n",
       "Name: GroupName, dtype: object"
      ]
     },
     "execution_count": 32,
     "metadata": {},
     "output_type": "execute_result"
    }
   ],
   "source": [
    "df['GroupName'].head(10)"
   ]
  },
  {
   "cell_type": "code",
   "execution_count": 31,
   "metadata": {},
   "outputs": [
    {
     "data": {
      "text/plain": [
       "(636464, 19)"
      ]
     },
     "execution_count": 31,
     "metadata": {},
     "output_type": "execute_result"
    }
   ],
   "source": [
    "df.shape"
   ]
  },
  {
   "cell_type": "code",
   "execution_count": 34,
   "metadata": {},
   "outputs": [],
   "source": [
    "#Drop the unwanted columns,\n",
    "#SiteName and Group name would be needed but we do not have enough resources. \n",
    "dfaml=dfaml.drop(columns=['SiteName','GroupName',\n",
    "                   'ClientID','FirstRepaymentDate','RepaymentDate'],axis=1)"
   ]
  },
  {
   "cell_type": "code",
   "execution_count": 36,
   "metadata": {},
   "outputs": [
    {
     "data": {
      "text/plain": [
       "Index(['SeasonName', 'DistrictName', 'TotalOfSolarBundles', 'TotalRepayment',\n",
       "       'TotalCredit', 'NumRepayments', 'Facilitator', 'LandSize', 'NewMember',\n",
       "       'TotalEnrolledSeasons', 'RepaymentTypeName', 'RepaymentCategoryName',\n",
       "       'RunningTotal', 'default_status'],\n",
       "      dtype='object')"
      ]
     },
     "execution_count": 36,
     "metadata": {},
     "output_type": "execute_result"
    }
   ],
   "source": [
    "#Verify\n",
    "dfaml.columns"
   ]
  },
  {
   "cell_type": "code",
   "execution_count": 37,
   "metadata": {},
   "outputs": [
    {
     "data": {
      "text/plain": [
       "(636464, 14)"
      ]
     },
     "execution_count": 37,
     "metadata": {},
     "output_type": "execute_result"
    }
   ],
   "source": [
    "dfaml.shape"
   ]
  },
  {
   "cell_type": "code",
   "execution_count": 39,
   "metadata": {},
   "outputs": [
    {
     "name": "stdout",
     "output_type": "stream",
     "text": [
      "<class 'pandas.core.frame.DataFrame'>\n",
      "RangeIndex: 636464 entries, 0 to 636463\n",
      "Data columns (total 14 columns):\n",
      "SeasonName               636464 non-null object\n",
      "DistrictName             636464 non-null object\n",
      "TotalOfSolarBundles      636464 non-null int64\n",
      "TotalRepayment           636464 non-null float64\n",
      "TotalCredit              636464 non-null int64\n",
      "NumRepayments            636464 non-null int64\n",
      "Facilitator              636464 non-null bool\n",
      "LandSize                 636464 non-null float64\n",
      "NewMember                636464 non-null bool\n",
      "TotalEnrolledSeasons     636464 non-null int64\n",
      "RepaymentTypeName        636464 non-null object\n",
      "RepaymentCategoryName    636464 non-null object\n",
      "RunningTotal             636464 non-null float64\n",
      "default_status           636464 non-null bool\n",
      "dtypes: bool(3), float64(3), int64(4), object(4)\n",
      "memory usage: 55.2+ MB\n"
     ]
    }
   ],
   "source": [
    "dfaml.info()"
   ]
  },
  {
   "cell_type": "code",
   "execution_count": 40,
   "metadata": {},
   "outputs": [],
   "source": [
    "# The categorical columns of interest. \n",
    "catsecond = ['DistrictName','SeasonName', 'RepaymentTypeName','RepaymentCategoryName']"
   ]
  },
  {
   "cell_type": "code",
   "execution_count": 41,
   "metadata": {},
   "outputs": [
    {
     "data": {
      "text/plain": [
       "4"
      ]
     },
     "execution_count": 41,
     "metadata": {},
     "output_type": "execute_result"
    }
   ],
   "source": [
    "len(catsecond)"
   ]
  },
  {
   "cell_type": "code",
   "execution_count": 42,
   "metadata": {},
   "outputs": [
    {
     "data": {
      "text/plain": [
       "39"
      ]
     },
     "execution_count": 42,
     "metadata": {},
     "output_type": "execute_result"
    }
   ],
   "source": [
    "# New columns to be added on the dataframe\n",
    "df.DistrictName.nunique()"
   ]
  },
  {
   "cell_type": "code",
   "execution_count": 43,
   "metadata": {},
   "outputs": [
    {
     "data": {
      "text/plain": [
       "7"
      ]
     },
     "execution_count": 43,
     "metadata": {},
     "output_type": "execute_result"
    }
   ],
   "source": [
    "# New columns to be added on dataframe\n",
    "df.RepaymentTypeName.nunique()"
   ]
  },
  {
   "cell_type": "code",
   "execution_count": 44,
   "metadata": {},
   "outputs": [
    {
     "data": {
      "text/plain": [
       "5"
      ]
     },
     "execution_count": 44,
     "metadata": {},
     "output_type": "execute_result"
    }
   ],
   "source": [
    "# New columns to be added on df\n",
    "df.RepaymentCategoryName.nunique()"
   ]
  },
  {
   "cell_type": "code",
   "execution_count": 46,
   "metadata": {},
   "outputs": [
    {
     "data": {
      "text/html": [
       "<div>\n",
       "<style scoped>\n",
       "    .dataframe tbody tr th:only-of-type {\n",
       "        vertical-align: middle;\n",
       "    }\n",
       "\n",
       "    .dataframe tbody tr th {\n",
       "        vertical-align: top;\n",
       "    }\n",
       "\n",
       "    .dataframe thead th {\n",
       "        text-align: right;\n",
       "    }\n",
       "</style>\n",
       "<table border=\"1\" class=\"dataframe\">\n",
       "  <thead>\n",
       "    <tr style=\"text-align: right;\">\n",
       "      <th></th>\n",
       "      <th>SeasonName</th>\n",
       "      <th>DistrictName</th>\n",
       "      <th>SiteName</th>\n",
       "      <th>GroupName</th>\n",
       "      <th>ClientID</th>\n",
       "      <th>TotalOfSolarBundles</th>\n",
       "      <th>TotalRepayment</th>\n",
       "      <th>TotalCredit</th>\n",
       "      <th>NumRepayments</th>\n",
       "      <th>FirstRepaymentDate</th>\n",
       "      <th>...</th>\n",
       "      <th>TotalEnrolledSeasons</th>\n",
       "      <th>RepaymentDate</th>\n",
       "      <th>RepaymentTypeName</th>\n",
       "      <th>RunningTotal</th>\n",
       "      <th>default_status</th>\n",
       "      <th>RepaymentCategoryName_Bonus</th>\n",
       "      <th>RepaymentCategoryName_Refund</th>\n",
       "      <th>RepaymentCategoryName_Revenue</th>\n",
       "      <th>RepaymentCategoryName_Trial</th>\n",
       "      <th>RepaymentCategoryName_Write Off</th>\n",
       "    </tr>\n",
       "  </thead>\n",
       "  <tbody>\n",
       "    <tr>\n",
       "      <td>0</td>\n",
       "      <td>LR2016</td>\n",
       "      <td>Butere</td>\n",
       "      <td>Malaha</td>\n",
       "      <td>Fanya Ule</td>\n",
       "      <td>895315</td>\n",
       "      <td>0</td>\n",
       "      <td>10220.0</td>\n",
       "      <td>10220</td>\n",
       "      <td>9</td>\n",
       "      <td>11/13/2015</td>\n",
       "      <td>...</td>\n",
       "      <td>1</td>\n",
       "      <td>2015-11-20</td>\n",
       "      <td>MobileMoney</td>\n",
       "      <td>1025.0</td>\n",
       "      <td>True</td>\n",
       "      <td>0</td>\n",
       "      <td>0</td>\n",
       "      <td>1</td>\n",
       "      <td>0</td>\n",
       "      <td>0</td>\n",
       "    </tr>\n",
       "    <tr>\n",
       "      <td>1</td>\n",
       "      <td>LR2016</td>\n",
       "      <td>Webuye</td>\n",
       "      <td>Sinoko</td>\n",
       "      <td>Alpha</td>\n",
       "      <td>385693</td>\n",
       "      <td>2</td>\n",
       "      <td>19890.0</td>\n",
       "      <td>19890</td>\n",
       "      <td>13</td>\n",
       "      <td>11/10/2015</td>\n",
       "      <td>...</td>\n",
       "      <td>7</td>\n",
       "      <td>2015-11-10</td>\n",
       "      <td>MobileMoney</td>\n",
       "      <td>500.0</td>\n",
       "      <td>True</td>\n",
       "      <td>0</td>\n",
       "      <td>0</td>\n",
       "      <td>1</td>\n",
       "      <td>0</td>\n",
       "      <td>0</td>\n",
       "    </tr>\n",
       "    <tr>\n",
       "      <td>2</td>\n",
       "      <td>LR2015</td>\n",
       "      <td>Lugari</td>\n",
       "      <td>Mulimani</td>\n",
       "      <td>Baraka</td>\n",
       "      <td>1635357</td>\n",
       "      <td>1</td>\n",
       "      <td>13220.0</td>\n",
       "      <td>13220</td>\n",
       "      <td>12</td>\n",
       "      <td>11/10/2014</td>\n",
       "      <td>...</td>\n",
       "      <td>6</td>\n",
       "      <td>2014-12-08</td>\n",
       "      <td>MobileMoney</td>\n",
       "      <td>9020.0</td>\n",
       "      <td>True</td>\n",
       "      <td>0</td>\n",
       "      <td>0</td>\n",
       "      <td>1</td>\n",
       "      <td>0</td>\n",
       "      <td>0</td>\n",
       "    </tr>\n",
       "    <tr>\n",
       "      <td>3</td>\n",
       "      <td>LR2016</td>\n",
       "      <td>Webuye</td>\n",
       "      <td>Ondoti</td>\n",
       "      <td>Timakila</td>\n",
       "      <td>568321</td>\n",
       "      <td>1</td>\n",
       "      <td>9700.0</td>\n",
       "      <td>9700</td>\n",
       "      <td>7</td>\n",
       "      <td>11/16/2015</td>\n",
       "      <td>...</td>\n",
       "      <td>4</td>\n",
       "      <td>2015-11-16</td>\n",
       "      <td>MobileMoney</td>\n",
       "      <td>500.0</td>\n",
       "      <td>True</td>\n",
       "      <td>0</td>\n",
       "      <td>0</td>\n",
       "      <td>1</td>\n",
       "      <td>0</td>\n",
       "      <td>0</td>\n",
       "    </tr>\n",
       "    <tr>\n",
       "      <td>4</td>\n",
       "      <td>LR2018</td>\n",
       "      <td>Bungoma</td>\n",
       "      <td>Khaoya</td>\n",
       "      <td>Baraka</td>\n",
       "      <td>38603</td>\n",
       "      <td>0</td>\n",
       "      <td>6085.0</td>\n",
       "      <td>6085</td>\n",
       "      <td>8</td>\n",
       "      <td>11/7/2017</td>\n",
       "      <td>...</td>\n",
       "      <td>6</td>\n",
       "      <td>2017-11-30</td>\n",
       "      <td>MobileMoney</td>\n",
       "      <td>504.0</td>\n",
       "      <td>True</td>\n",
       "      <td>0</td>\n",
       "      <td>0</td>\n",
       "      <td>1</td>\n",
       "      <td>0</td>\n",
       "      <td>0</td>\n",
       "    </tr>\n",
       "  </tbody>\n",
       "</table>\n",
       "<p>5 rows × 23 columns</p>\n",
       "</div>"
      ],
      "text/plain": [
       "  SeasonName DistrictName  SiteName  GroupName ClientID  TotalOfSolarBundles  \\\n",
       "0     LR2016       Butere    Malaha  Fanya Ule   895315                    0   \n",
       "1     LR2016       Webuye    Sinoko      Alpha   385693                    2   \n",
       "2     LR2015       Lugari  Mulimani     Baraka  1635357                    1   \n",
       "3     LR2016       Webuye    Ondoti   Timakila   568321                    1   \n",
       "4     LR2018      Bungoma    Khaoya     Baraka    38603                    0   \n",
       "\n",
       "   TotalRepayment  TotalCredit  NumRepayments FirstRepaymentDate  ...  \\\n",
       "0         10220.0        10220              9         11/13/2015  ...   \n",
       "1         19890.0        19890             13         11/10/2015  ...   \n",
       "2         13220.0        13220             12         11/10/2014  ...   \n",
       "3          9700.0         9700              7         11/16/2015  ...   \n",
       "4          6085.0         6085              8          11/7/2017  ...   \n",
       "\n",
       "   TotalEnrolledSeasons  RepaymentDate  RepaymentTypeName  RunningTotal  \\\n",
       "0                     1     2015-11-20        MobileMoney        1025.0   \n",
       "1                     7     2015-11-10        MobileMoney         500.0   \n",
       "2                     6     2014-12-08        MobileMoney        9020.0   \n",
       "3                     4     2015-11-16        MobileMoney         500.0   \n",
       "4                     6     2017-11-30        MobileMoney         504.0   \n",
       "\n",
       "  default_status RepaymentCategoryName_Bonus  RepaymentCategoryName_Refund  \\\n",
       "0           True                           0                             0   \n",
       "1           True                           0                             0   \n",
       "2           True                           0                             0   \n",
       "3           True                           0                             0   \n",
       "4           True                           0                             0   \n",
       "\n",
       "   RepaymentCategoryName_Revenue  RepaymentCategoryName_Trial  \\\n",
       "0                              1                            0   \n",
       "1                              1                            0   \n",
       "2                              1                            0   \n",
       "3                              1                            0   \n",
       "4                              1                            0   \n",
       "\n",
       "   RepaymentCategoryName_Write Off  \n",
       "0                                0  \n",
       "1                                0  \n",
       "2                                0  \n",
       "3                                0  \n",
       "4                                0  \n",
       "\n",
       "[5 rows x 23 columns]"
      ]
     },
     "execution_count": 46,
     "metadata": {},
     "output_type": "execute_result"
    }
   ],
   "source": [
    "pd.get_dummies(df,columns=['RepaymentCategoryName']).head()"
   ]
  },
  {
   "cell_type": "code",
   "execution_count": 45,
   "metadata": {},
   "outputs": [],
   "source": [
    "#pd.get_dummies is called. \n",
    "df_last = pd.get_dummies(dfaml,columns=catsecond, drop_first=True)"
   ]
  },
  {
   "cell_type": "code",
   "execution_count": 47,
   "metadata": {},
   "outputs": [
    {
     "data": {
      "text/plain": [
       "Index(['TotalOfSolarBundles', 'TotalRepayment', 'TotalCredit', 'NumRepayments',\n",
       "       'Facilitator', 'LandSize', 'NewMember', 'TotalEnrolledSeasons',\n",
       "       'RunningTotal', 'default_status', 'DistrictName_Belgut',\n",
       "       'DistrictName_Borabu', 'DistrictName_Bungoma', 'DistrictName_Busia',\n",
       "       'DistrictName_Butere', 'DistrictName_Cherangany', 'DistrictName_Chwele',\n",
       "       'DistrictName_Gem', 'DistrictName_Green Shamba', 'DistrictName_Gucha',\n",
       "       'DistrictName_Hamisi', 'DistrictName_KENYA STAFF',\n",
       "       'DistrictName_Kabiyet', 'DistrictName_Kabondo',\n",
       "       'DistrictName_Kakamega (South)', 'DistrictName_Kakamega B (North)',\n",
       "       'DistrictName_Kapsabet', 'DistrictName_Kimilili', 'DistrictName_Kisii',\n",
       "       'DistrictName_Lugari', 'DistrictName_Masaba', 'DistrictName_Matete',\n",
       "       'DistrictName_Migori', 'DistrictName_Mumias', 'DistrictName_Nambale',\n",
       "       'DistrictName_Ndalu', 'DistrictName_Nyamira', 'DistrictName_Rachuonyo',\n",
       "       'DistrictName_Rongo', 'DistrictName_Saboti', 'DistrictName_Sagana',\n",
       "       'DistrictName_Serabo', 'DistrictName_Sirisia', 'DistrictName_Suneka',\n",
       "       'DistrictName_Teso', 'DistrictName_Tinderet', 'DistrictName_Vihiga',\n",
       "       'DistrictName_Webuye', 'SeasonName_LR2016', 'SeasonName_LR2017',\n",
       "       'SeasonName_LR2018', 'RepaymentTypeName_Crop Failure Compensation',\n",
       "       'RepaymentTypeName_Deceased Debt Cancellation',\n",
       "       'RepaymentTypeName_Dropped Client Refund',\n",
       "       'RepaymentTypeName_MobileMoney', 'RepaymentTypeName_Receipt',\n",
       "       'RepaymentTypeName_Trial', 'RepaymentCategoryName_Refund',\n",
       "       'RepaymentCategoryName_Revenue', 'RepaymentCategoryName_Trial',\n",
       "       'RepaymentCategoryName_Write Off'],\n",
       "      dtype='object')"
      ]
     },
     "execution_count": 47,
     "metadata": {},
     "output_type": "execute_result"
    }
   ],
   "source": [
    "#Verify the new columns. \n",
    "df_last.columns"
   ]
  },
  {
   "cell_type": "code",
   "execution_count": 51,
   "metadata": {},
   "outputs": [],
   "source": [
    "#import the sklearn\n",
    "from sklearn.model_selection import train_test_split"
   ]
  },
  {
   "cell_type": "code",
   "execution_count": 52,
   "metadata": {},
   "outputs": [],
   "source": [
    "#Divide the data into training and testing sets. \n",
    "X = df_last.drop(columns=['default_status'],axis=1)\n",
    "y = df_last['default_status']\n",
    "X_train, X_test, y_train, y_test = train_test_split(X, y, test_size=0.30, random_state=101)"
   ]
  },
  {
   "cell_type": "code",
   "execution_count": 55,
   "metadata": {},
   "outputs": [
    {
     "data": {
      "text/html": [
       "<div>\n",
       "<style scoped>\n",
       "    .dataframe tbody tr th:only-of-type {\n",
       "        vertical-align: middle;\n",
       "    }\n",
       "\n",
       "    .dataframe tbody tr th {\n",
       "        vertical-align: top;\n",
       "    }\n",
       "\n",
       "    .dataframe thead th {\n",
       "        text-align: right;\n",
       "    }\n",
       "</style>\n",
       "<table border=\"1\" class=\"dataframe\">\n",
       "  <thead>\n",
       "    <tr style=\"text-align: right;\">\n",
       "      <th></th>\n",
       "      <th>TotalOfSolarBundles</th>\n",
       "      <th>TotalRepayment</th>\n",
       "      <th>TotalCredit</th>\n",
       "      <th>NumRepayments</th>\n",
       "      <th>Facilitator</th>\n",
       "      <th>LandSize</th>\n",
       "      <th>NewMember</th>\n",
       "      <th>TotalEnrolledSeasons</th>\n",
       "      <th>RunningTotal</th>\n",
       "      <th>DistrictName_Belgut</th>\n",
       "      <th>...</th>\n",
       "      <th>RepaymentTypeName_Crop Failure Compensation</th>\n",
       "      <th>RepaymentTypeName_Deceased Debt Cancellation</th>\n",
       "      <th>RepaymentTypeName_Dropped Client Refund</th>\n",
       "      <th>RepaymentTypeName_MobileMoney</th>\n",
       "      <th>RepaymentTypeName_Receipt</th>\n",
       "      <th>RepaymentTypeName_Trial</th>\n",
       "      <th>RepaymentCategoryName_Refund</th>\n",
       "      <th>RepaymentCategoryName_Revenue</th>\n",
       "      <th>RepaymentCategoryName_Trial</th>\n",
       "      <th>RepaymentCategoryName_Write Off</th>\n",
       "    </tr>\n",
       "  </thead>\n",
       "  <tbody>\n",
       "    <tr>\n",
       "      <td>0</td>\n",
       "      <td>0</td>\n",
       "      <td>10220.0</td>\n",
       "      <td>10220</td>\n",
       "      <td>9</td>\n",
       "      <td>False</td>\n",
       "      <td>0.5</td>\n",
       "      <td>True</td>\n",
       "      <td>1</td>\n",
       "      <td>1025.0</td>\n",
       "      <td>0</td>\n",
       "      <td>...</td>\n",
       "      <td>0</td>\n",
       "      <td>0</td>\n",
       "      <td>0</td>\n",
       "      <td>1</td>\n",
       "      <td>0</td>\n",
       "      <td>0</td>\n",
       "      <td>0</td>\n",
       "      <td>1</td>\n",
       "      <td>0</td>\n",
       "      <td>0</td>\n",
       "    </tr>\n",
       "  </tbody>\n",
       "</table>\n",
       "<p>1 rows × 60 columns</p>\n",
       "</div>"
      ],
      "text/plain": [
       "   TotalOfSolarBundles  TotalRepayment  TotalCredit  NumRepayments  \\\n",
       "0                    0         10220.0        10220              9   \n",
       "\n",
       "   Facilitator  LandSize  NewMember  TotalEnrolledSeasons  RunningTotal  \\\n",
       "0        False       0.5       True                     1        1025.0   \n",
       "\n",
       "   DistrictName_Belgut  ...  RepaymentTypeName_Crop Failure Compensation  \\\n",
       "0                    0  ...                                            0   \n",
       "\n",
       "   RepaymentTypeName_Deceased Debt Cancellation  \\\n",
       "0                                             0   \n",
       "\n",
       "   RepaymentTypeName_Dropped Client Refund  RepaymentTypeName_MobileMoney  \\\n",
       "0                                        0                              1   \n",
       "\n",
       "   RepaymentTypeName_Receipt  RepaymentTypeName_Trial  \\\n",
       "0                          0                        0   \n",
       "\n",
       "   RepaymentCategoryName_Refund  RepaymentCategoryName_Revenue  \\\n",
       "0                             0                              1   \n",
       "\n",
       "   RepaymentCategoryName_Trial  RepaymentCategoryName_Write Off  \n",
       "0                            0                                0  \n",
       "\n",
       "[1 rows x 60 columns]"
      ]
     },
     "execution_count": 55,
     "metadata": {},
     "output_type": "execute_result"
    }
   ],
   "source": [
    "X.head(1)"
   ]
  },
  {
   "cell_type": "code",
   "execution_count": 56,
   "metadata": {},
   "outputs": [],
   "source": [
    "#Normalize the data\n",
    "from sklearn.preprocessing import StandardScaler\n",
    " \n",
    "scaler = StandardScaler().fit(X_train)\n",
    "\n",
    "# Normalize the train set\n",
    "X_train = scaler.transform(X_train)\n",
    "\n",
    "# Normalise the test set\n",
    "X_test = scaler.transform(X_test)"
   ]
  },
  {
   "cell_type": "code",
   "execution_count": 57,
   "metadata": {},
   "outputs": [
    {
     "data": {
      "text/plain": [
       "-45.40496791223523"
      ]
     },
     "execution_count": 57,
     "metadata": {},
     "output_type": "execute_result"
    }
   ],
   "source": [
    "X_train.min()"
   ]
  },
  {
   "cell_type": "code",
   "execution_count": 58,
   "metadata": {},
   "outputs": [
    {
     "data": {
      "text/plain": [
       "235.98622841174446"
      ]
     },
     "execution_count": 58,
     "metadata": {},
     "output_type": "execute_result"
    }
   ],
   "source": [
    "X_train.max()"
   ]
  },
  {
   "cell_type": "code",
   "execution_count": 59,
   "metadata": {},
   "outputs": [
    {
     "data": {
      "text/plain": [
       "-45.40496791223523"
      ]
     },
     "execution_count": 59,
     "metadata": {},
     "output_type": "execute_result"
    }
   ],
   "source": [
    "X_test.min()"
   ]
  },
  {
   "cell_type": "code",
   "execution_count": 60,
   "metadata": {},
   "outputs": [
    {
     "data": {
      "text/plain": [
       "235.98622841174446"
      ]
     },
     "execution_count": 60,
     "metadata": {},
     "output_type": "execute_result"
    }
   ],
   "source": [
    "X_test.max()"
   ]
  },
  {
   "cell_type": "code",
   "execution_count": 61,
   "metadata": {},
   "outputs": [
    {
     "data": {
      "text/plain": [
       "41490.0"
      ]
     },
     "execution_count": 61,
     "metadata": {},
     "output_type": "execute_result"
    }
   ],
   "source": [
    "df['TotalRepayment'].max()"
   ]
  },
  {
   "cell_type": "code",
   "execution_count": 62,
   "metadata": {},
   "outputs": [],
   "source": [
    "#Use decision trees to do the forecast\n",
    "from sklearn.tree import DecisionTreeClassifier\n",
    "dtree = DecisionTreeClassifier() #Instance of algorithm"
   ]
  },
  {
   "cell_type": "code",
   "execution_count": 63,
   "metadata": {},
   "outputs": [
    {
     "data": {
      "text/plain": [
       "DecisionTreeClassifier(class_weight=None, criterion='gini', max_depth=None,\n",
       "                       max_features=None, max_leaf_nodes=None,\n",
       "                       min_impurity_decrease=0.0, min_impurity_split=None,\n",
       "                       min_samples_leaf=1, min_samples_split=2,\n",
       "                       min_weight_fraction_leaf=0.0, presort=False,\n",
       "                       random_state=None, splitter='best')"
      ]
     },
     "execution_count": 63,
     "metadata": {},
     "output_type": "execute_result"
    }
   ],
   "source": [
    "#Fit the decision tree with training for X and y. \n",
    "dtree.fit(X_train,y_train)"
   ]
  },
  {
   "cell_type": "code",
   "execution_count": 64,
   "metadata": {},
   "outputs": [],
   "source": [
    "#Make predictions\n",
    "predictions = dtree.predict(X_test)"
   ]
  },
  {
   "cell_type": "code",
   "execution_count": 65,
   "metadata": {},
   "outputs": [],
   "source": [
    "#Evaluate model performance. \n",
    "from sklearn.metrics import classification_report,confusion_matrix"
   ]
  },
  {
   "cell_type": "code",
   "execution_count": 66,
   "metadata": {},
   "outputs": [
    {
     "name": "stdout",
     "output_type": "stream",
     "text": [
      "              precision    recall  f1-score   support\n",
      "\n",
      "       False       0.58      0.59      0.59     87003\n",
      "        True       0.66      0.65      0.65    103937\n",
      "\n",
      "    accuracy                           0.62    190940\n",
      "   macro avg       0.62      0.62      0.62    190940\n",
      "weighted avg       0.62      0.62      0.62    190940\n",
      "\n"
     ]
    }
   ],
   "source": [
    "print(classification_report(y_test,predictions))"
   ]
  },
  {
   "cell_type": "code",
   "execution_count": 67,
   "metadata": {},
   "outputs": [
    {
     "name": "stdout",
     "output_type": "stream",
     "text": [
      "[[51696 35307]\n",
      " [36788 67149]]\n"
     ]
    }
   ],
   "source": [
    "print(confusion_matrix(y_test,predictions))"
   ]
  },
  {
   "cell_type": "code",
   "execution_count": 68,
   "metadata": {},
   "outputs": [],
   "source": [
    "#Prediction with Random forest\n",
    "from sklearn.ensemble import RandomForestClassifier\n",
    "\n",
    "#Initialize the model. \n",
    "rfc = RandomForestClassifier(n_estimators=150)"
   ]
  },
  {
   "cell_type": "code",
   "execution_count": 69,
   "metadata": {},
   "outputs": [
    {
     "data": {
      "text/plain": [
       "RandomForestClassifier(bootstrap=True, class_weight=None, criterion='gini',\n",
       "                       max_depth=None, max_features='auto', max_leaf_nodes=None,\n",
       "                       min_impurity_decrease=0.0, min_impurity_split=None,\n",
       "                       min_samples_leaf=1, min_samples_split=2,\n",
       "                       min_weight_fraction_leaf=0.0, n_estimators=150,\n",
       "                       n_jobs=None, oob_score=False, random_state=None,\n",
       "                       verbose=0, warm_start=False)"
      ]
     },
     "execution_count": 69,
     "metadata": {},
     "output_type": "execute_result"
    }
   ],
   "source": [
    "#Fit the model \n",
    "rfc.fit(X_train,y_train)"
   ]
  },
  {
   "cell_type": "code",
   "execution_count": 70,
   "metadata": {},
   "outputs": [],
   "source": [
    "#Make predictions with the model. \n",
    "predictions2 = rfc.predict(X_test)"
   ]
  },
  {
   "cell_type": "code",
   "execution_count": 71,
   "metadata": {},
   "outputs": [
    {
     "name": "stdout",
     "output_type": "stream",
     "text": [
      "              precision    recall  f1-score   support\n",
      "\n",
      "       False       0.66      0.62      0.64     87003\n",
      "        True       0.70      0.73      0.71    103937\n",
      "\n",
      "    accuracy                           0.68    190940\n",
      "   macro avg       0.68      0.68      0.68    190940\n",
      "weighted avg       0.68      0.68      0.68    190940\n",
      "\n"
     ]
    }
   ],
   "source": [
    "#Performance metrics for the model \n",
    "print(classification_report(y_test,predictions2))"
   ]
  },
  {
   "cell_type": "code",
   "execution_count": 72,
   "metadata": {},
   "outputs": [
    {
     "name": "stdout",
     "output_type": "stream",
     "text": [
      "[[53836 33167]\n",
      " [27915 76022]]\n"
     ]
    }
   ],
   "source": [
    "print(confusion_matrix(y_test,predictions2))"
   ]
  },
  {
   "cell_type": "code",
   "execution_count": 77,
   "metadata": {},
   "outputs": [
    {
     "data": {
      "text/plain": [
       "636464"
      ]
     },
     "execution_count": 77,
     "metadata": {},
     "output_type": "execute_result"
    }
   ],
   "source": [
    "len(X)"
   ]
  },
  {
   "cell_type": "code",
   "execution_count": 73,
   "metadata": {},
   "outputs": [
    {
     "data": {
      "text/plain": [
       "190940"
      ]
     },
     "execution_count": 73,
     "metadata": {},
     "output_type": "execute_result"
    }
   ],
   "source": [
    "len(X_test)"
   ]
  },
  {
   "cell_type": "code",
   "execution_count": 74,
   "metadata": {},
   "outputs": [
    {
     "data": {
      "text/plain": [
       "445524"
      ]
     },
     "execution_count": 74,
     "metadata": {},
     "output_type": "execute_result"
    }
   ],
   "source": [
    "len(X_train)"
   ]
  },
  {
   "cell_type": "code",
   "execution_count": 78,
   "metadata": {},
   "outputs": [
    {
     "data": {
      "text/plain": [
       "array([ True, False, False, ...,  True,  True,  True])"
      ]
     },
     "execution_count": 78,
     "metadata": {},
     "output_type": "execute_result"
    }
   ],
   "source": [
    "predictions2"
   ]
  },
  {
   "cell_type": "code",
   "execution_count": 79,
   "metadata": {},
   "outputs": [
    {
     "data": {
      "text/plain": [
       "214275     True\n",
       "298737    False\n",
       "35136      True\n",
       "169440     True\n",
       "410797     True\n",
       "          ...  \n",
       "33906      True\n",
       "477290    False\n",
       "215057     True\n",
       "244595     True\n",
       "172699    False\n",
       "Name: default_status, Length: 190940, dtype: bool"
      ]
     },
     "execution_count": 79,
     "metadata": {},
     "output_type": "execute_result"
    }
   ],
   "source": [
    "y_test"
   ]
  },
  {
   "cell_type": "code",
   "execution_count": null,
   "metadata": {},
   "outputs": [],
   "source": []
  }
 ],
 "metadata": {
  "kernelspec": {
   "display_name": "Python 3",
   "language": "python",
   "name": "python3"
  },
  "language_info": {
   "codemirror_mode": {
    "name": "ipython",
    "version": 3
   },
   "file_extension": ".py",
   "mimetype": "text/x-python",
   "name": "python",
   "nbconvert_exporter": "python",
   "pygments_lexer": "ipython3",
   "version": "3.6.8"
  }
 },
 "nbformat": 4,
 "nbformat_minor": 2
}
